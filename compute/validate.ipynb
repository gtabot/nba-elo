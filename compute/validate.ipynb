{
 "cells": [
  {
   "cell_type": "markdown",
   "metadata": {},
   "source": [
    "# Validating FiveThirtyEight's NBA Elo Implementation"
   ]
  },
  {
   "cell_type": "markdown",
   "metadata": {},
   "source": [
    "This notebook loads data from `nba_elo.csv` which includes game data with both pre- and post- Elo ratings for each team.\n",
    "\n",
    "The notebook uses the game data to compute the ratings and track them historically for each franchise.\n",
    "\n",
    "Finally, the notebook compares and plots the Elo ratings computed vs FiveThirtyEight's published values."
   ]
  },
  {
   "cell_type": "markdown",
   "metadata": {},
   "source": [
    "## Setup"
   ]
  },
  {
   "cell_type": "markdown",
   "metadata": {},
   "source": [
    "### Franchises"
   ]
  },
  {
   "cell_type": "code",
   "execution_count": 1,
   "metadata": {},
   "outputs": [],
   "source": [
    "franchise_to_teams = {\n",
    "    \"ATL\": [\"TRI\", \"MLH\", \"STL\", \"ATL\"],\n",
    "    \"BOS\": [\"BOS\"],\n",
    "    \"BRK\": [\"NJA\", \"NYA\", \"NYN\", \"NJN\", \"BRK\"],\n",
    "    \"CHO\": [\"CHH\", \"CHA\", \"CHO\"],\n",
    "    \"CHI\": [\"CHI\"],\n",
    "    \"CLE\": [\"CLE\"],\n",
    "    \"DAL\": [\"DAL\"],\n",
    "    \"DEN\": [\"DNR\", \"DNA\", \"DEN\"],\n",
    "    \"DET\": [\"FTW\", \"DET\"],\n",
    "    \"GSW\": [\"PHW\", \"SFW\", \"GSW\"],\n",
    "    \"HOU\": [\"SDR\", \"HOU\"],\n",
    "    \"IND\": [\"INA\", \"IND\"],\n",
    "    \"LAC\": [\"BUF\", \"SDC\", \"LAC\"],\n",
    "    \"LAL\": [\"MNL\", \"LAL\"],\n",
    "    \"MEM\": [\"VAN\", \"MEM\"],\n",
    "    \"MIA\": [\"MIA\"],\n",
    "    \"MIL\": [\"MIL\"],\n",
    "    \"MIN\": [\"MIN\"],\n",
    "    \"NOP\": [\"NOH\", \"NOK\", \"NOP\"],\n",
    "    \"NYK\": [\"NYK\"],\n",
    "    \"OKC\": [\"SEA\", \"OKC\"],\n",
    "    \"ORL\": [\"ORL\"],\n",
    "    \"PHI\": [\"SYR\", \"PHI\"],\n",
    "    \"PHO\": [\"PHO\"],\n",
    "    \"POR\": [\"POR\"],\n",
    "    \"SAC\": [\"ROC\", \"CIN\", \"KCO\", \"KCK\", \"SAC\"],\n",
    "    \"SAS\": [\"DLC\", \"TEX\", \"SAA\", \"SAS\"],\n",
    "    \"TOR\": [\"TOR\"],\n",
    "    \"UTA\": [\"NOJ\", \"UTA\"],\n",
    "    \"WAS\": [\"CHP\", \"CHZ\", \"BAL\", \"CAP\", \"WSB\", \"WAS\"],\n",
    "    \"AND\": [\"AND\"],\n",
    "    \"BLB\": [\"BLB\"],\n",
    "    \"CHS\": [\"CHS\"],\n",
    "    \"CLR\": [\"CLR\"],\n",
    "    \"DNN\": [\"DNN\"],\n",
    "    \"DTF\": [\"DTF\"],\n",
    "    \"INJ\": [\"INJ\"],\n",
    "    \"INO\": [\"INO\"],\n",
    "    \"KEN\": [\"KEN\"],\n",
    "    \"MMS\": [\"NOB\", \"MMP\", \"MMT\", \"MMS\"],\n",
    "    \"PTC\": [\"PTP\", \"MNP\", \"PTC\"],\n",
    "    \"PIT\": [\"PIT\"],\n",
    "    \"PRO\": [\"PRO\"],\n",
    "    \"SDS\": [\"SDA\", \"SDS\"],\n",
    "    \"SHE\": [\"SHE\"],\n",
    "    \"SSL\": [\"HSM\", \"CAR\", \"SSL\"],\n",
    "    \"STB\": [\"STB\"],\n",
    "    \"FLO\": [\"MNM\", \"MMF\", \"FLO\"],\n",
    "    \"TRH\": [\"TRH\"],\n",
    "    \"UTS\": [\"ANA\", \"LAS\", \"UTS\"],\n",
    "    \"VIR\": [\"OAK\", \"WSA\", \"VIR\"],\n",
    "    \"WSC\": [\"WSC\"],\n",
    "    \"WAT\": [\"WAT\"],\n",
    "}"
   ]
  },
  {
   "cell_type": "code",
   "execution_count": 2,
   "metadata": {},
   "outputs": [],
   "source": [
    "team_to_franchise = {}\n",
    "for franchise, teams in franchise_to_teams.items():\n",
    "    for team in teams:\n",
    "        team_to_franchise[team] = franchise"
   ]
  },
  {
   "cell_type": "markdown",
   "metadata": {},
   "source": [
    "### Elo Formula"
   ]
  },
  {
   "cell_type": "code",
   "execution_count": 3,
   "metadata": {},
   "outputs": [],
   "source": [
    "R_0 = 1300.0\n",
    "\n",
    "def R_next(K, S, E, R):\n",
    "    return K * (S - E) + R\n",
    "\n",
    "def K(MOV, R_diff):\n",
    "    return 20 * (((MOV + 3) ** 0.8) / (7.5 + 0.006 * R_diff))\n",
    "\n",
    "def S(did_win):\n",
    "    return 1 if did_win else 0\n",
    "\n",
    "def E(R_opp, R_team):\n",
    "    return 1 / (1 + 10 ** ((R_opp - R_team) / 400)) "
   ]
  },
  {
   "cell_type": "markdown",
   "metadata": {},
   "source": [
    "## Validation"
   ]
  },
  {
   "cell_type": "markdown",
   "metadata": {},
   "source": [
    "### Setup"
   ]
  },
  {
   "cell_type": "code",
   "execution_count": 4,
   "metadata": {},
   "outputs": [],
   "source": [
    "import pandas as pd\n",
    "from collections import defaultdict"
   ]
  },
  {
   "cell_type": "code",
   "execution_count": 5,
   "metadata": {},
   "outputs": [],
   "source": [
    "df = pd.read_csv(\"nba_elo.csv\")\n",
    "ratings = {}\n",
    "season = -1"
   ]
  },
  {
   "cell_type": "code",
   "execution_count": 6,
   "metadata": {},
   "outputs": [],
   "source": [
    "def update_ratings(row):\n",
    "    score_1 = row['score1']\n",
    "    score_2 = row['score2']\n",
    "    R_1 = row['elo1_pre']\n",
    "    R_2 = row['elo2_pre']\n",
    "    if not row['neutral']:\n",
    "        R_1 += 100\n",
    "    MOV = abs(score_1 - score_2)\n",
    "    R_diff = R_1 - R_2 if score_1 > score_2 else R_2 - R_1\n",
    "    k = K(MOV, R_diff)\n",
    "    S_1 = S(score_1 > score_2)\n",
    "    S_2 = S(score_2 > score_1)\n",
    "    E_1 = E(R_2, R_1)\n",
    "    E_2 = E(R_1, R_2)\n",
    "    R_next1 = R_next(k, S_1, E_1, row['elo1_pre'])\n",
    "    R_next2 = R_next(k, S_2, E_2, row['elo2_pre'])\n",
    "    return R_next1, R_next2\n",
    "\n",
    "def new_season(season):\n",
    "    teams = set(df[df[\"season\"] == season][\"team1\"])\n",
    "    for team in teams:\n",
    "        franchise = team_to_franchise[team]\n",
    "        if season == 2003 and team == \"NOH\":\n",
    "            ratings[franchise] = ratings[team_to_franchise[\"CHH\"]]\n",
    "        elif season == 2006 and team == \"CHA\":\n",
    "            ratings[franchise] = R_0\n",
    "        elif franchise not in ratings:\n",
    "            ratings[franchise] = R_0\n",
    "        else:\n",
    "            ratings[franchise] = 0.75 * ratings[franchise] + 0.25 * 1505\n",
    "\n",
    "def compute_validation_elos():\n",
    "    season = [-1]  # Use a list to access the season value\n",
    "    def compute_row(row):\n",
    "        if season[0] != row[\"season\"]:\n",
    "            season[0] = row[\"season\"]\n",
    "            new_season(season[0])\n",
    "        franchise1 = team_to_franchise[row[\"team1\"]]\n",
    "        franchise2 = team_to_franchise[row[\"team2\"]]\n",
    "        row[\"valid_elo1_pre\"] = ratings[franchise1]\n",
    "        row[\"valid_elo2_pre\"] = ratings[franchise2]\n",
    "        R_next1, R_next2 = update_ratings(row)\n",
    "        row[\"valid_elo1_post\"] = R_next1\n",
    "        row[\"valid_elo2_post\"] = R_next2\n",
    "        ratings[franchise1] = R_next1\n",
    "        ratings[franchise2] = R_next2\n",
    "        return row\n",
    "    return compute_row"
   ]
  },
  {
   "cell_type": "markdown",
   "metadata": {},
   "source": [
    "### Compute"
   ]
  },
  {
   "cell_type": "code",
   "execution_count": 7,
   "metadata": {},
   "outputs": [],
   "source": [
    "df = df.apply(compute_validation_elos(), axis=1)"
   ]
  },
  {
   "cell_type": "markdown",
   "metadata": {},
   "source": [
    "### Plot"
   ]
  },
  {
   "cell_type": "code",
   "execution_count": 8,
   "metadata": {},
   "outputs": [],
   "source": [
    "import matplotlib.pyplot as plt\n",
    "from scipy.stats import linregress"
   ]
  },
  {
   "cell_type": "code",
   "execution_count": 9,
   "metadata": {},
   "outputs": [],
   "source": [
    "def plot_with_r2(ax, x, y, title):\n",
    "    ax.scatter(df[x], df[y], marker=\".\", alpha=0.5)\n",
    "    ax.set_xlabel(\"FiveThirtyEight\")\n",
    "    ax.set_ylabel(\"computed\")\n",
    "    ax.set_title(title)\n",
    "    _, _, r, _, _ = linregress(df[x], df[y])\n",
    "    ax.text(\n",
    "        0.05,\n",
    "        0.95,\n",
    "        f\"r² = {r**2:.4f}\",\n",
    "        transform=ax.transAxes,\n",
    "        verticalalignment=\"top\",\n",
    "    )"
   ]
  },
  {
   "cell_type": "code",
   "execution_count": 10,
   "metadata": {},
   "outputs": [
    {
     "data": {
      "image/png": "[encoded data removed]",
      "text/plain": [
       "<Figure size 640x480 with 4 Axes>"
      ]
     },
     "metadata": {},
     "output_type": "display_data"
    }
   ],
   "source": [
    "fig, axs = plt.subplots(2, 2)\n",
    "plot_with_r2(axs[0, 0], \"elo1_pre\", \"valid_elo1_pre\", \"Elo 1 Pre-Game\")\n",
    "plot_with_r2(axs[0, 1], \"elo2_pre\", \"valid_elo2_pre\", \"Elo 2 Pre-Game\")\n",
    "plot_with_r2(axs[1, 0], \"elo1_post\", \"valid_elo1_post\", \"Elo 1 Post-Game\")\n",
    "plot_with_r2(axs[1, 1], \"elo2_post\", \"valid_elo2_post\", \"Elo 2 Post-Game\")\n",
    "plt.tight_layout()\n",
    "plt.show()"
   ]
  },
  {
   "cell_type": "markdown",
   "metadata": {},
   "source": []
  }
 ],
 "metadata": {
  "kernelspec": {
   "display_name": "Python 3",
   "language": "python",
   "name": "python3"
  },
  "language_info": {
   "codemirror_mode": {
    "name": "ipython",
    "version": 3
   },
   "file_extension": ".py",
   "mimetype": "text/x-python",
   "name": "python",
   "nbconvert_exporter": "python",
   "pygments_lexer": "ipython3",
   "version": "3.11.3"
  }
 },
 "nbformat": 4,
 "nbformat_minor": 2
}
